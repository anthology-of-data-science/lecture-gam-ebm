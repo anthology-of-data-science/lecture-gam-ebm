{
 "cells": [
  {
   "cell_type": "code",
   "execution_count": null,
   "metadata": {},
   "outputs": [],
   "source": [
    "import numpy as np\n",
    "import matplotlib.pyplot as plt\n",
    "\n",
    "WARM_RED = \"#ff4f5e\"\n",
    "\n",
    "plt.xkcd()\n",
    "plt.xlabel(\"flexibility\")\n",
    "plt.ylabel(\"interpretability\")\n",
    "plt.xticks([0, 1], [\"low\", \"high\"])\n",
    "plt.yticks([0, 1], [\"low\", \"high\"])\n",
    "plt.xlim([-0.1, 1.1])\n",
    "plt.ylim([-0.1, 1.1])\n",
    "plt.title(\"Too good to be true?\", color=WARM_RED)\n",
    "\n",
    "plt.arrow(0.5, 0.6, 0.4, 0.4, color=WARM_RED)\n",
    "plt.text(0, 1, \"Subset Selection Lasso\")\n",
    "plt.text(0.2, 0.8, \"Least Squares\")\n",
    "plt.text(0.5, 0.5, \"Trees\")\n",
    "plt.text(0.4, 0.6, \"GAMs\", color=WARM_RED)\n",
    "plt.text(0.9, 1, \"EBMs\", color=WARM_RED)\n",
    "plt.text(0.7, 0.3, \"Bagging,\")\n",
    "plt.text(0.8, 0.2, \"Boosting\")\n",
    "plt.text(1.0, 0.0, \"DL\")\n",
    "\n",
    "plt.figure(figsize=(10, 10))\n",
    "plt.savefig(\"images/xkcd-interpretability-flexibility.png\", dpi=300)"
   ]
  }
 ],
 "metadata": {
  "kernelspec": {
   "display_name": "Python 3",
   "language": "python",
   "name": "python3"
  },
  "language_info": {
   "codemirror_mode": {
    "name": "ipython",
    "version": 3
   },
   "file_extension": ".py",
   "mimetype": "text/x-python",
   "name": "python",
   "nbconvert_exporter": "python",
   "pygments_lexer": "ipython3",
   "version": "3.11.7"
  }
 },
 "nbformat": 4,
 "nbformat_minor": 2
}
